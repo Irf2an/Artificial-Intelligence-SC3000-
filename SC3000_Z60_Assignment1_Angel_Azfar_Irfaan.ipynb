{
 "cells": [
  {
   "cell_type": "markdown",
   "metadata": {
    "id": "ZauhjPSfX7pI"
   },
   "source": [
    "# SC3000, Z60, Assignment 1\n",
    "#Group Members: Azfar, 'Irfaan, John\n",
    "#Contributions: \n",
    "###Task 1: Azfar U2122084H\n",
    "###Task 2: 'Irfaan U2121388D\n",
    "###Task 3: John U2122963E\n"
   ]
  },
  {
   "cell_type": "markdown",
   "metadata": {
    "id": "UBiYOoesYMvr"
   },
   "source": [
    "## Installing dependencies:"
   ]
  },
  {
   "cell_type": "code",
   "execution_count": null,
   "metadata": {
    "colab": {
     "base_uri": "https://localhost:8080/",
     "height": 635
    },
    "id": "PbgnVwZmX5uW",
    "outputId": "2f97b868-38a5-4144-8ffb-095a2954affa"
   },
   "outputs": [
    {
     "name": "stdout",
     "output_type": "stream",
     "text": [
      "Looking in indexes: https://pypi.org/simple, https://us-python.pkg.dev/colab-wheels/public/simple/\n",
      "Requirement already satisfied: gym[classic_control] in /usr/local/lib/python3.9/dist-packages (0.25.2)\n",
      "Requirement already satisfied: numpy>=1.18.0 in /usr/local/lib/python3.9/dist-packages (from gym[classic_control]) (1.22.4)\n",
      "Requirement already satisfied: cloudpickle>=1.2.0 in /usr/local/lib/python3.9/dist-packages (from gym[classic_control]) (2.2.1)\n",
      "Requirement already satisfied: importlib-metadata>=4.8.0 in /usr/local/lib/python3.9/dist-packages (from gym[classic_control]) (6.1.0)\n",
      "Requirement already satisfied: gym-notices>=0.0.4 in /usr/local/lib/python3.9/dist-packages (from gym[classic_control]) (0.0.8)\n",
      "Collecting pygame==2.1.0\n",
      "  Downloading pygame-2.1.0-cp39-cp39-manylinux_2_17_x86_64.manylinux2014_x86_64.whl (18.3 MB)\n",
      "\u001b[2K     \u001b[90m━━━━━━━━━━━━━━━━━━━━━━━━━━━━━━━━━━━━━━━━\u001b[0m \u001b[32m18.3/18.3 MB\u001b[0m \u001b[31m54.6 MB/s\u001b[0m eta \u001b[36m0:00:00\u001b[0m\n",
      "\u001b[?25hRequirement already satisfied: zipp>=0.5 in /usr/local/lib/python3.9/dist-packages (from importlib-metadata>=4.8.0->gym[classic_control]) (3.15.0)\n",
      "Installing collected packages: pygame\n",
      "  Attempting uninstall: pygame\n",
      "    Found existing installation: pygame 2.3.0\n",
      "    Uninstalling pygame-2.3.0:\n",
      "      Successfully uninstalled pygame-2.3.0\n",
      "Successfully installed pygame-2.1.0\n"
     ]
    },
    {
     "data": {
      "application/vnd.colab-display-data+json": {
       "pip_warning": {
        "packages": [
         "pygame"
        ]
       }
      }
     },
     "metadata": {},
     "output_type": "display_data"
    },
    {
     "name": "stdout",
     "output_type": "stream",
     "text": [
      "Looking in indexes: https://pypi.org/simple, https://us-python.pkg.dev/colab-wheels/public/simple/\n",
      "Requirement already satisfied: setuptools in /usr/local/lib/python3.9/dist-packages (67.6.0)\n",
      "Collecting setuptools\n",
      "  Downloading setuptools-67.6.1-py3-none-any.whl (1.1 MB)\n",
      "\u001b[2K     \u001b[90m━━━━━━━━━━━━━━━━━━━━━━━━━━━━━━━━━━━━━━━━\u001b[0m \u001b[32m1.1/1.1 MB\u001b[0m \u001b[31m15.3 MB/s\u001b[0m eta \u001b[36m0:00:00\u001b[0m\n",
      "\u001b[?25hInstalling collected packages: setuptools\n",
      "  Attempting uninstall: setuptools\n",
      "    Found existing installation: setuptools 67.6.0\n",
      "    Uninstalling setuptools-67.6.0:\n",
      "      Successfully uninstalled setuptools-67.6.0\n",
      "\u001b[31mERROR: pip's dependency resolver does not currently take into account all the packages that are installed. This behaviour is the source of the following dependency conflicts.\n",
      "ipython 7.9.0 requires jedi>=0.10, which is not installed.\u001b[0m\u001b[31m\n",
      "\u001b[0mSuccessfully installed setuptools-67.6.1\n"
     ]
    }
   ],
   "source": [
    "!apt-get install -y xvfb python-opengl > /dev/null 2>&1\n",
    "!pip install gym pyvirtualdisplay > /dev/null 2>&1\n",
    "!pip install gym pyvirtualdisplay > /dev/null 2>&1\n",
    "!apt-get install -y xvfb python-opengl ffmpeg > /dev/null 2>&1\n",
    "!pip install gym[classic_control]\n",
    "!apt-get update > /dev/null 2>&1\n",
    "!apt-get install cmake > /dev/null 2>&1\n",
    "!pip install --upgrade setuptools 2>&1\n",
    "!pip install ez_setup > /dev/null 2>&1\n"
   ]
  },
  {
   "cell_type": "code",
   "execution_count": null,
   "metadata": {
    "colab": {
     "base_uri": "https://localhost:8080/"
    },
    "id": "kF5uBgGvQ0qp",
    "outputId": "be308622-3caa-4380-f66d-59e468f8a95d"
   },
   "outputs": [
    {
     "name": "stdout",
     "output_type": "stream",
     "text": [
      "Looking in indexes: https://pypi.org/simple, https://us-python.pkg.dev/colab-wheels/public/simple/\n",
      "Requirement already satisfied: pip in /usr/local/lib/python3.9/dist-packages (22.0.4)\n",
      "Collecting install\n",
      "  Downloading install-1.3.5-py3-none-any.whl (3.2 kB)\n",
      "Requirement already satisfied: gym[classic_control] in /usr/local/lib/python3.9/dist-packages (0.25.2)\n",
      "Requirement already satisfied: importlib-metadata>=4.8.0 in /usr/local/lib/python3.9/dist-packages (from gym[classic_control]) (6.1.0)\n",
      "Requirement already satisfied: cloudpickle>=1.2.0 in /usr/local/lib/python3.9/dist-packages (from gym[classic_control]) (2.2.1)\n",
      "Requirement already satisfied: gym-notices>=0.0.4 in /usr/local/lib/python3.9/dist-packages (from gym[classic_control]) (0.0.8)\n",
      "Requirement already satisfied: numpy>=1.18.0 in /usr/local/lib/python3.9/dist-packages (from gym[classic_control]) (1.22.4)\n",
      "Requirement already satisfied: pygame==2.1.0 in /usr/local/lib/python3.9/dist-packages (from gym[classic_control]) (2.1.0)\n",
      "Requirement already satisfied: zipp>=0.5 in /usr/local/lib/python3.9/dist-packages (from importlib-metadata>=4.8.0->gym[classic_control]) (3.15.0)\n",
      "Installing collected packages: install\n",
      "Successfully installed install-1.3.5\n"
     ]
    }
   ],
   "source": [
    "!pip install pip install gym[classic_control]"
   ]
  },
  {
   "cell_type": "markdown",
   "metadata": {
    "id": "RwKbYeTgbaTA"
   },
   "source": [
    "## Importing dependencies and define helper functions"
   ]
  },
  {
   "cell_type": "code",
   "execution_count": null,
   "metadata": {
    "id": "j6KpgCLGYWmj"
   },
   "outputs": [],
   "source": [
    "import gym\n",
    "from gym import logger as gymlogger\n",
    "from gym.wrappers import RecordVideo\n",
    "gymlogger.set_level(40) #error only\n",
    "import tensorflow as tf\n",
    "import numpy as np\n",
    "import random\n",
    "import matplotlib\n",
    "import matplotlib.pyplot as plt\n",
    "%matplotlib inline\n",
    "import math\n",
    "import glob\n",
    "import io\n",
    "import base64\n",
    "from IPython.display import HTML\n",
    "from IPython import display as ipythondisplay\n",
    "import time # to get the time\n",
    "\n",
    "\n",
    "def show_video():\n",
    "  mp4list = glob.glob('video/*.mp4')\n",
    "  if len(mp4list) > 0:\n",
    "    mp4 = mp4list[0]\n",
    "    video = io.open(mp4, 'r+b').read()\n",
    "    encoded = base64.b64encode(video)\n",
    "    ipythondisplay.display(HTML(data='''<video alt=\"test\" autoplay \n",
    "                loop controls style=\"height: 400px;\">\n",
    "                <source src=\"data:video/mp4;base64,{0}\" type=\"video/mp4\" />\n",
    "             </video>'''.format(encoded.decode('ascii'))))\n",
    "  else: \n",
    "    print(\"Could not find video\")"
   ]
  },
  {
   "cell_type": "markdown",
   "metadata": {
    "id": "ehbqP9CXbmo7"
   },
   "source": [
    "#Creating CartPole environment"
   ]
  },
  {
   "cell_type": "code",
   "execution_count": null,
   "metadata": {
    "id": "Go12dH4qbwBy"
   },
   "outputs": [],
   "source": [
    "env = gym.make(\"CartPole-v1\")"
   ]
  },
  {
   "cell_type": "markdown",
   "metadata": {
    "id": "2oIzK9SzhlWN"
   },
   "source": [
    "## Task 1: Development of an RL agent using Q-Learning \n",
    "## Reference taken from https://medium.com/swlh/using-q-learning-for-openais-cartpole-v1-4a216ef237df"
   ]
  },
  {
   "cell_type": "markdown",
   "metadata": {
    "id": "ZF-WUZ19cM4A"
   },
   "source": [
    "###Initialising variables for QLearning"
   ]
  },
  {
   "cell_type": "code",
   "execution_count": null,
   "metadata": {
    "id": "D6VBjuvVWfld"
   },
   "outputs": [],
   "source": [
    "LEARNING_RATE = 0.1\n",
    "\n",
    "DISCOUNT = 0.95\n",
    "EPISODES = 60000\n",
    "total = 0\n",
    "total_reward = 0\n",
    "prior_reward = 0\n",
    "\n",
    "Observation = [30, 30, 50, 50]\n",
    "np_array_win_size = np.array([0.25, 0.25, 0.01, 0.1])\n",
    "\n",
    "epsilon = 1\n",
    "\n",
    "epsilon_decay_value = 0.99995\n",
    "\n",
    "q_table = np.random.uniform(low=0, high=1, size=(Observation + [env.action_space.n]))\n",
    "q_table.shape\n",
    "\n",
    "#\n",
    "def get_discrete_state(state):\n",
    "    discrete_state = state/np_array_win_size+ np.array([15,10,1,10])\n",
    "    return tuple(discrete_state.astype(int))"
   ]
  },
  {
   "cell_type": "markdown",
   "metadata": {
    "id": "E_vBZvoVcUUl"
   },
   "source": [
    "###Training the agent"
   ]
  },
  {
   "cell_type": "markdown",
   "metadata": {
    "id": "zjlXuUbvlppH"
   },
   "source": [
    "###Improvements to the code below:\n",
    "###A high learning rate can help the agent learn quickly but may cause instability or overfitting, while a low learning rate can help the agent learn more robustly but may require more training time. \n",
    "###A common approach is to start with a high learning rate and gradually decrease it over time as the agent becomes more experienced.\n",
    "###Therefore, we improved the agent by changing the learning rate and discount factor once the episode reached 40000 iterations. Learning rate was decreased from 0.1 to 0.05 and the discount was increased from 0.95 to 0.99.\n",
    "\n",
    "###Before the change, the average cumulative reward was 323 however now it increased drastically to 485."
   ]
  },
  {
   "cell_type": "code",
   "execution_count": null,
   "metadata": {
    "colab": {
     "base_uri": "https://localhost:8080/"
    },
    "id": "LYyavfbIa47D",
    "outputId": "0ba1aaf2-fd6a-46b0-c54b-02cc24f95b97"
   },
   "outputs": [
    {
     "name": "stdout",
     "output_type": "stream",
     "text": [
      "Episode: 0\n",
      "Observation: (15, 13, -21, -8)\n",
      "Chosen action: 1\n",
      "Time Average: 0.0008467770099639892\n",
      "Mean Reward: 9.8384\n",
      "Time Average: 0.0010750360488891602\n",
      "Mean Reward: 25.0546\n",
      "Episode: 10000\n",
      "Time Average: 0.0015209699153900147\n",
      "Mean Reward: 25.7196\n",
      "Time Average: 0.0011405569553375244\n",
      "Mean Reward: 26.961\n",
      "Episode: 20000\n",
      "Time Average: 0.0025533771514892577\n",
      "Mean Reward: 39.0622\n",
      "Time Average: 0.003012830114364624\n",
      "Mean Reward: 59.014\n",
      "Episode: 30000\n",
      "Time Average: 0.004289655542373657\n",
      "Mean Reward: 83.386\n",
      "Time Average: 0.005368421983718872\n",
      "Mean Reward: 114.1202\n",
      "Episode: 40000\n",
      "Time Average: 0.0072372556209564206\n",
      "Mean Reward: 142.1136\n",
      "Time Average: 0.01037953724861145\n",
      "Mean Reward: 222.8038\n",
      "Episode: 50000\n",
      "Time Average: 0.01598443970680237\n",
      "Mean Reward: 326.5928\n",
      "Time Average: 0.016376485109329222\n",
      "Mean Reward: 344.0898\n",
      "Episode: 60000\n",
      "Time Average: 0.01690556001663208\n",
      "Mean Reward: 356.0404\n"
     ]
    }
   ],
   "source": [
    "observation = env.reset()\n",
    "#Training RL Agent (60000 iterations)\n",
    "for episode in range(EPISODES + 1): \n",
    "\n",
    "  #Initial time\n",
    "  t0 = time.time() \n",
    "  (currentState)= env.reset()\n",
    "\n",
    "  #Convert reseted environment to discrete state\n",
    "  discrete_state = get_discrete_state(currentState) \n",
    "  done = False\n",
    "\n",
    "  #Initialise episode reward to 0\n",
    "  episode_reward = 0 \n",
    "  if episode % 10000 == 0: \n",
    "      print(\"Episode: \" + str(episode))\n",
    "\n",
    "  while not done: \n",
    "      if np.random.random() > epsilon:\n",
    "          #Choosing an action from the q_table\n",
    "          action = np.argmax(q_table[discrete_state]) \n",
    "      else:\n",
    "          #Random action\n",
    "          action = np.random.randint(0, env.action_space.n) \n",
    "      #Step action to get new states, reward, and the \"done\" status.\n",
    "      new_state, reward, done, _= env.step(action) \n",
    "      #Updating reward\n",
    "      episode_reward += reward\n",
    "\n",
    "      new_discrete_state = get_discrete_state(new_state)\n",
    "\n",
    "\n",
    "      #Recalibrating q-table\n",
    "      if episode == 40000:\n",
    "        LEARNING_RATE = 0.05\n",
    "        DISCOUNT = 0.99\n",
    "      if not done: \n",
    "          max_future_q = np.max(q_table[new_discrete_state])\n",
    "\n",
    "          current_q = q_table[discrete_state + (action,)]\n",
    "\n",
    "          new_q = (1 - LEARNING_RATE) * current_q + LEARNING_RATE * (reward + DISCOUNT * max_future_q)\n",
    "\n",
    "          q_table[discrete_state + (action,)] = new_q\n",
    "\n",
    "      discrete_state = new_discrete_state\n",
    "      \n",
    "  if episode == 0:\n",
    "    print(\"Observation:\", discrete_state)\n",
    "    print(\"Chosen action:\", action)\n",
    "  \n",
    "  #Modifying epsilon\n",
    "  if epsilon > 0.05:\n",
    "      if episode_reward > prior_reward and episode > 10000:\n",
    "          epsilon = math.pow(epsilon_decay_value, episode - 10000)\n",
    "\n",
    "  #Final time\n",
    "  t1 = time.time() \n",
    "  #Final time - Initial time\n",
    "  episode_total = t1 - t0 \n",
    "  total = total + episode_total\n",
    "  #Episode total reward\n",
    "  total_reward += episode_reward\n",
    "  prior_reward = episode_reward\n",
    "\n",
    "  #Every 5000 iterations, print the average time and the average reward\n",
    "  if episode % 5000 == 0: \n",
    "      mean = total / 5000\n",
    "      print(\"Time Average: \" + str(mean))\n",
    "      total = 0\n",
    "\n",
    "      mean_reward = total_reward / 5000\n",
    "      print(\"Mean Reward: \" + str(mean_reward))\n",
    "      total_reward = 0\n",
    "env.close()\n",
    "\n"
   ]
  },
  {
   "cell_type": "markdown",
   "metadata": {
    "id": "-XtIQ0Rti1gm"
   },
   "source": [
    "## Task 2: Demonstrate the effectiveness of the RL agent"
   ]
  },
  {
   "cell_type": "markdown",
   "metadata": {
    "id": "djBEShf0kGI4"
   },
   "source": [
    "### Testing the effectiveness of the trained RL agent with 100 episodes"
   ]
  },
  {
   "cell_type": "code",
   "execution_count": null,
   "metadata": {
    "colab": {
     "base_uri": "https://localhost:8080/"
    },
    "id": "l7ZQa3kFLrpC",
    "outputId": "76d7b0cc-4bd2-4d67-a955-b9ece92c8e8b"
   },
   "outputs": [
    {
     "name": "stdout",
     "output_type": "stream",
     "text": [
      "Episode 1: Total Reward = 500.0\n",
      "Episode 2: Total Reward = 500.0\n",
      "Episode 3: Total Reward = 500.0\n",
      "Episode 4: Total Reward = 500.0\n",
      "Episode 5: Total Reward = 500.0\n",
      "Episode 6: Total Reward = 492.0\n",
      "Episode 7: Total Reward = 500.0\n",
      "Episode 8: Total Reward = 454.0\n",
      "Episode 9: Total Reward = 500.0\n",
      "Episode 10: Total Reward = 500.0\n",
      "Episode 11: Total Reward = 500.0\n",
      "Episode 12: Total Reward = 500.0\n",
      "Episode 13: Total Reward = 500.0\n",
      "Episode 14: Total Reward = 500.0\n",
      "Episode 15: Total Reward = 500.0\n",
      "Episode 16: Total Reward = 500.0\n",
      "Episode 17: Total Reward = 500.0\n",
      "Episode 18: Total Reward = 500.0\n",
      "Episode 19: Total Reward = 500.0\n",
      "Episode 20: Total Reward = 500.0\n",
      "Episode 21: Total Reward = 468.0\n",
      "Episode 22: Total Reward = 500.0\n",
      "Episode 23: Total Reward = 500.0\n",
      "Episode 24: Total Reward = 500.0\n",
      "Episode 25: Total Reward = 500.0\n",
      "Episode 26: Total Reward = 500.0\n",
      "Episode 27: Total Reward = 500.0\n",
      "Episode 28: Total Reward = 500.0\n",
      "Episode 29: Total Reward = 488.0\n",
      "Episode 30: Total Reward = 500.0\n",
      "Episode 31: Total Reward = 500.0\n",
      "Episode 32: Total Reward = 500.0\n",
      "Episode 33: Total Reward = 500.0\n",
      "Episode 34: Total Reward = 383.0\n",
      "Episode 35: Total Reward = 500.0\n",
      "Episode 36: Total Reward = 500.0\n",
      "Episode 37: Total Reward = 447.0\n",
      "Episode 38: Total Reward = 313.0\n",
      "Episode 39: Total Reward = 500.0\n",
      "Episode 40: Total Reward = 500.0\n",
      "Episode 41: Total Reward = 500.0\n",
      "Episode 42: Total Reward = 500.0\n",
      "Episode 43: Total Reward = 500.0\n",
      "Episode 44: Total Reward = 465.0\n",
      "Episode 45: Total Reward = 500.0\n",
      "Episode 46: Total Reward = 500.0\n",
      "Episode 47: Total Reward = 500.0\n",
      "Episode 48: Total Reward = 500.0\n",
      "Episode 49: Total Reward = 500.0\n",
      "Episode 50: Total Reward = 500.0\n",
      "Episode 51: Total Reward = 229.0\n",
      "Episode 52: Total Reward = 500.0\n",
      "Episode 53: Total Reward = 500.0\n",
      "Episode 54: Total Reward = 500.0\n",
      "Episode 55: Total Reward = 500.0\n",
      "Episode 56: Total Reward = 500.0\n",
      "Episode 57: Total Reward = 477.0\n",
      "Episode 58: Total Reward = 500.0\n",
      "Episode 59: Total Reward = 500.0\n",
      "Episode 60: Total Reward = 500.0\n",
      "Episode 61: Total Reward = 500.0\n",
      "Episode 62: Total Reward = 500.0\n",
      "Episode 63: Total Reward = 500.0\n",
      "Episode 64: Total Reward = 470.0\n",
      "Episode 65: Total Reward = 500.0\n",
      "Episode 66: Total Reward = 500.0\n",
      "Episode 67: Total Reward = 412.0\n",
      "Episode 68: Total Reward = 500.0\n",
      "Episode 69: Total Reward = 500.0\n",
      "Episode 70: Total Reward = 500.0\n",
      "Episode 71: Total Reward = 500.0\n",
      "Episode 72: Total Reward = 500.0\n",
      "Episode 73: Total Reward = 421.0\n",
      "Episode 74: Total Reward = 500.0\n",
      "Episode 75: Total Reward = 500.0\n",
      "Episode 76: Total Reward = 500.0\n",
      "Episode 77: Total Reward = 351.0\n",
      "Episode 78: Total Reward = 487.0\n",
      "Episode 79: Total Reward = 500.0\n",
      "Episode 80: Total Reward = 500.0\n",
      "Episode 81: Total Reward = 500.0\n",
      "Episode 82: Total Reward = 500.0\n",
      "Episode 83: Total Reward = 500.0\n",
      "Episode 84: Total Reward = 500.0\n",
      "Episode 85: Total Reward = 274.0\n",
      "Episode 86: Total Reward = 500.0\n",
      "Episode 87: Total Reward = 500.0\n",
      "Episode 88: Total Reward = 500.0\n",
      "Episode 89: Total Reward = 500.0\n",
      "Episode 90: Total Reward = 500.0\n",
      "Episode 91: Total Reward = 500.0\n",
      "Episode 92: Total Reward = 500.0\n",
      "Episode 93: Total Reward = 500.0\n",
      "Episode 94: Total Reward = 500.0\n",
      "Episode 95: Total Reward = 451.0\n",
      "Episode 96: Total Reward = 500.0\n",
      "Episode 97: Total Reward = 500.0\n",
      "Episode 98: Total Reward = 500.0\n",
      "Episode 99: Total Reward = 500.0\n",
      "Episode 100: Total Reward = 500.0\n"
     ]
    }
   ],
   "source": [
    "num_episodes = 100\n",
    "max_time_steps = 500\n",
    "\n",
    "mylist = []\n",
    "total = 0\n",
    "#Test the agent using the Q-table\n",
    "for i in range(num_episodes):\n",
    "    state = env.reset()\n",
    "    discrete_state = get_discrete_state(state) \n",
    "    total_reward = 0\n",
    "    for t in range(max_time_steps):\n",
    "        #Choose the action with the highest Q-value for the current state\n",
    "        action = np.argmax(q_table[discrete_state])\n",
    "        #Take the action and observe the resulting next state and reward\n",
    "        next_state, reward, done, info = env.step(action)\n",
    "        total_reward += reward\n",
    "        #Update the current state to be the next state\n",
    "        state = next_state\n",
    "        discrete_state = get_discrete_state(state)\n",
    "        if done:\n",
    "            break\n",
    "    print('Episode {}: Total Reward = {}'.format(i+1, total_reward))\n",
    "    mylist.append(total_reward)\n",
    "\n",
    "# Close the environment\n",
    "env.close()"
   ]
  },
  {
   "cell_type": "markdown",
   "metadata": {
    "id": "OrWi-wFxdKxq"
   },
   "source": [
    "###Plotting cumulative rewards against 100 episodes"
   ]
  },
  {
   "cell_type": "code",
   "execution_count": null,
   "metadata": {
    "colab": {
     "base_uri": "https://localhost:8080/",
     "height": 295
    },
    "id": "0B7wUjEjRF93",
    "outputId": "32ff6bb1-325a-44fc-e6c4-3ab5c6451ae2"
   },
   "outputs": [
    {
     "data": {
      "image/png": "[encoded data removed]",
      "text/plain": [
       "<Figure size 432x288 with 1 Axes>"
      ]
     },
     "metadata": {
      "needs_background": "light"
     },
     "output_type": "display_data"
    }
   ],
   "source": [
    "final_arr = np.array(mylist)\n",
    "plt.plot(final_arr)\n",
    "plt.title('Cumulative reward for each episode')\n",
    "plt.ylabel('Cumulative reward')\n",
    "plt.xlabel('Episode')\n",
    "plt.show()"
   ]
  },
  {
   "cell_type": "markdown",
   "metadata": {
    "id": "XndSYH7wlvn7"
   },
   "source": [
    "Print the average reward over the 100 episodes."
   ]
  },
  {
   "cell_type": "code",
   "execution_count": null,
   "metadata": {
    "colab": {
     "base_uri": "https://localhost:8080/"
    },
    "id": "pOiOp9OYlo5Y",
    "outputId": "e2da92b8-914e-4528-871a-197c80aba46b"
   },
   "outputs": [
    {
     "name": "stdout",
     "output_type": "stream",
     "text": [
      "Average cumulative reward: 485.82\n",
      "Is my agent good enough? True\n"
     ]
    }
   ],
   "source": [
    "total = 0\n",
    "for i in mylist:\n",
    "  total += i\n",
    "average = total/100\n",
    "print(\"Average cumulative reward:\", average)\n",
    "print(\"Is my agent good enough?\", average > 195)"
   ]
  },
  {
   "cell_type": "markdown",
   "metadata": {
    "id": "Yg0DCT38lFA6"
   },
   "source": [
    "## Task 3: Render one episode played by the agent"
   ]
  },
  {
   "cell_type": "markdown",
   "metadata": {
    "id": "vx1awMr9lc_w"
   },
   "source": [
    "###Rendered results from RL agent"
   ]
  },
  {
   "cell_type": "code",
   "execution_count": null,
   "metadata": {
    "id": "qpoTBeAqRPGP"
   },
   "outputs": [],
   "source": [
    "env = RecordVideo(gym.make(\"CartPole-v1\"), \"./video1\")\n",
    "state = env.reset()\n",
    "discrete_state = get_discrete_state(state) \n",
    "total_reward = 0\n",
    "for t in range(max_time_steps):\n",
    "    #Choose the action with the highest Q-value for the current state\n",
    "    action = np.argmax(q_table[discrete_state])\n",
    "    #Take the action and observe the resulting next state and reward\n",
    "    next_state, reward, done, info = env.step(action)\n",
    "    total_reward += reward\n",
    "    #Update the current state to be the next state\n",
    "    state = next_state\n",
    "    discrete_state = get_discrete_state(state)\n",
    "    if done:\n",
    "        break"
   ]
  },
  {
   "cell_type": "code",
   "execution_count": null,
   "metadata": {
    "id": "7rzoz7zORpxS"
   },
   "outputs": [],
   "source": [
    "import glob\n",
    "files = glob.glob(f'{env.video_folder}/{env.name_prefix}*.mp4')"
   ]
  },
  {
   "cell_type": "markdown",
   "metadata": {
    "id": "v9jr430Adw0J"
   },
   "source": [
    "###RL Agent Video"
   ]
  },
  {
   "cell_type": "code",
   "execution_count": null,
   "metadata": {
    "colab": {
     "base_uri": "https://localhost:8080/",
     "height": 421
    },
    "id": "5KbgiUfKR2_B",
    "outputId": "5c148519-b348-46e4-f2d5-4903e2f09d6c"
   },
   "outputs": [
    {
     "data": {
      "text/html": [
       "<video controls  >\n",
       " <source src=\"data:video/mp4;base64,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\" type=\"video/mp4\">\n",
       " Your browser does not support the video tag.\n",
       " </video>"
      ],
      "text/plain": [
       "<IPython.core.display.Video object>"
      ]
     },
     "execution_count": 92,
     "metadata": {},
     "output_type": "execute_result"
    }
   ],
   "source": [
    "from IPython.display import Video\n",
    "\n",
    "Video(files[0], embed=True)"
   ]
  }
 ],
 "metadata": {
  "colab": {
   "provenance": []
  },
  "kernelspec": {
   "display_name": "Python 3 (ipykernel)",
   "language": "python",
   "name": "python3"
  },
  "language_info": {
   "codemirror_mode": {
    "name": "ipython",
    "version": 3
   },
   "file_extension": ".py",
   "mimetype": "text/x-python",
   "name": "python",
   "nbconvert_exporter": "python",
   "pygments_lexer": "ipython3",
   "version": "3.9.7"
  }
 },
 "nbformat": 4,
 "nbformat_minor": 1
}
